{
 "cells": [
  {
   "cell_type": "markdown",
   "id": "49c5e38c-1889-46e7-8b33-86f7f29f80e6",
   "metadata": {},
   "source": [
    "# inicio"
   ]
  },
  {
   "cell_type": "code",
   "execution_count": null,
   "id": "295515e0-eb3b-4b50-b6b2-6b038083ed07",
   "metadata": {},
   "outputs": [],
   "source": []
  },
  {
   "cell_type": "code",
   "execution_count": null,
   "id": "336d1278-6e63-4500-842a-cd4a4827a5b8",
   "metadata": {},
   "outputs": [],
   "source": []
  },
  {
   "cell_type": "code",
   "execution_count": null,
   "id": "ae68474c-c7a9-4dce-b53e-2223198c62c1",
   "metadata": {},
   "outputs": [],
   "source": []
  },
  {
   "cell_type": "code",
   "execution_count": null,
   "id": "806cb459-a164-4c18-a101-30db1847a443",
   "metadata": {},
   "outputs": [],
   "source": []
  },
  {
   "cell_type": "code",
   "execution_count": null,
   "id": "acbdee70-582f-46f8-aad1-f708260b32bd",
   "metadata": {},
   "outputs": [],
   "source": []
  }
 ],
 "metadata": {
  "kernelspec": {
   "display_name": "TFX3.10.12",
   "language": "python",
   "name": "tfx3.10.12"
  },
  "language_info": {
   "codemirror_mode": {
    "name": "ipython",
    "version": 3
   },
   "file_extension": ".py",
   "mimetype": "text/x-python",
   "name": "python",
   "nbconvert_exporter": "python",
   "pygments_lexer": "ipython3",
   "version": "3.9.2"
  }
 },
 "nbformat": 4,
 "nbformat_minor": 5
}
