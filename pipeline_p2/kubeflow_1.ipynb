{
 "cells": [
  {
   "cell_type": "markdown",
   "id": "49c5e38c-1889-46e7-8b33-86f7f29f80e6",
   "metadata": {},
   "source": [
    "# inicio"
   ]
  },
  {
   "cell_type": "code",
   "execution_count": 1,
   "id": "7c720af3-5d68-4176-99a4-c0bf31ee0d83",
   "metadata": {},
   "outputs": [
    {
     "name": "stdout",
     "output_type": "stream",
     "text": [
      "/home/eyes/kubeflow/pipeline_p2\n"
     ]
    }
   ],
   "source": [
    "!pwd"
   ]
  },
  {
   "cell_type": "code",
   "execution_count": 8,
   "id": "e133881d-cdee-4f08-a8ac-26b31dc0742f",
   "metadata": {},
   "outputs": [
    {
     "data": {
      "text/html": [
       "<a href=\"http://localhost:8080/#/experiments/details/468b9949-b36b-44e8-9309-2990ba2ecd57\" target=\"_blank\" >Experiment details</a>."
      ],
      "text/plain": [
       "<IPython.core.display.HTML object>"
      ]
     },
     "metadata": {},
     "output_type": "display_data"
    },
    {
     "data": {
      "text/html": [
       "<a href=\"http://localhost:8080/#/runs/details/462f84e9-cc24-47fb-922f-63dce49adc32\" target=\"_blank\" >Run details</a>."
      ],
      "text/plain": [
       "<IPython.core.display.HTML object>"
      ]
     },
     "metadata": {},
     "output_type": "display_data"
    }
   ],
   "source": [
    "from kfp import dsl\n",
    "\n",
    "@dsl.component\n",
    "def say_hello(name: str) -> str:\n",
    "    hello_text = f'Hello, {name}!'\n",
    "    print(hello_text)\n",
    "    return hello_text\n",
    "\n",
    "@dsl.pipeline\n",
    "def hello_pipeline(recipient: str) -> str:\n",
    "    hello_task = say_hello(name=recipient)\n",
    "    return hello_task.output\n",
    "    \n",
    "from kfp import compiler\n",
    "compiler.Compiler().compile(hello_pipeline, 'pipeline.yaml')\n",
    "\n",
    "\n",
    "\n",
    "from kfp.client import Client\n",
    "client = Client(host='http://localhost:8080')\n",
    "run = client.create_run_from_pipeline_package(\n",
    "    'pipeline.yaml',\n",
    "    arguments={\n",
    "        'recipient': 'Worlddd',\n",
    "    },\n",
    ")"
   ]
  },
  {
   "cell_type": "code",
   "execution_count": null,
   "id": "9201ee31-6228-4b80-ac90-d89b7ca50aa2",
   "metadata": {},
   "outputs": [],
   "source": []
  },
  {
   "cell_type": "code",
   "execution_count": 5,
   "id": "9e4a876f-3512-41dd-b797-f2570e56ed8e",
   "metadata": {},
   "outputs": [
    {
     "data": {
      "text/html": [
       "<a href=\"http://localhost:8080/#/experiments/details/468b9949-b36b-44e8-9309-2990ba2ecd57\" target=\"_blank\" >Experiment details</a>."
      ],
      "text/plain": [
       "<IPython.core.display.HTML object>"
      ]
     },
     "metadata": {},
     "output_type": "display_data"
    },
    {
     "data": {
      "text/html": [
       "<a href=\"http://localhost:8080/#/runs/details/3544b2b5-350f-487d-b8e0-8ae0ffda0a9b\" target=\"_blank\" >Run details</a>."
      ],
      "text/plain": [
       "<IPython.core.display.HTML object>"
      ]
     },
     "metadata": {},
     "output_type": "display_data"
    }
   ],
   "source": [
    "from kfp import dsl\n",
    "\n",
    "@dsl.component()\n",
    "def say_hello(name: str) -> str:\n",
    "    hello_text = f'Hello, {name}!'\n",
    "    print(hello_text)\n",
    "    return hello_text\n",
    "\n",
    "@dsl.pipeline\n",
    "def hello_pipeline(recipient: str) -> str:\n",
    "    hello_task = say_hello(name=recipient)\n",
    "    return hello_task.output\n",
    "\n",
    "from kfp import compiler\n",
    "compiler.Compiler().compile(hello_pipeline, 'pipeline.yaml')\n",
    "\n",
    "from kfp.client import Client\n",
    "\n",
    "client = Client(host='http://localhost:8080')\n",
    "run = client.create_run_from_pipeline_package(\n",
    "    'pipeline.yaml',\n",
    "    arguments={\n",
    "        'recipient': 'World',\n",
    "    },\n",
    ")"
   ]
  },
  {
   "cell_type": "code",
   "execution_count": 2,
   "id": "2d0f8de7-c591-4f72-b148-009bcee1579d",
   "metadata": {},
   "outputs": [],
   "source": [
    "from kfp import dsl\n",
    "\n",
    "@dsl.component()\n",
    "def say_hello(name: str) -> str:\n",
    "    hello_text = f'Hello, {name}!'\n",
    "    print(hello_text)\n",
    "    return hello_text\n",
    "\n",
    "@dsl.pipeline\n",
    "def hello_pipeline(recipient: str) -> str:\n",
    "    hello_task = say_hello(name=recipient)\n",
    "    return hello_task.output"
   ]
  },
  {
   "cell_type": "code",
   "execution_count": 3,
   "id": "f6a98c34-bbd4-4755-98fa-8501e987b46d",
   "metadata": {},
   "outputs": [],
   "source": [
    "from kfp import compiler\n",
    "\n",
    "compiler.Compiler().compile(hello_pipeline, 'pipeline.yaml')"
   ]
  },
  {
   "cell_type": "code",
   "execution_count": 4,
   "id": "88f78a30-13f5-4543-be8a-ec7c124d9bd9",
   "metadata": {},
   "outputs": [
    {
     "data": {
      "text/html": [
       "<a href=\"http://localhost:8080/#/experiments/details/468b9949-b36b-44e8-9309-2990ba2ecd57\" target=\"_blank\" >Experiment details</a>."
      ],
      "text/plain": [
       "<IPython.core.display.HTML object>"
      ]
     },
     "metadata": {},
     "output_type": "display_data"
    },
    {
     "data": {
      "text/html": [
       "<a href=\"http://localhost:8080/#/runs/details/3505a851-8ce2-4717-9784-3954e458e866\" target=\"_blank\" >Run details</a>."
      ],
      "text/plain": [
       "<IPython.core.display.HTML object>"
      ]
     },
     "metadata": {},
     "output_type": "display_data"
    }
   ],
   "source": [
    "from kfp.client import Client\n",
    "\n",
    "client = Client(host='http://localhost:8080')\n",
    "run = client.create_run_from_pipeline_package(\n",
    "    'pipeline.yaml',\n",
    "    arguments={\n",
    "        'recipient': 'World',\n",
    "    },\n",
    ")"
   ]
  },
  {
   "cell_type": "code",
   "execution_count": null,
   "id": "e62a63ed-9099-482e-899c-f9fbb1868713",
   "metadata": {},
   "outputs": [],
   "source": []
  },
  {
   "cell_type": "code",
   "execution_count": null,
   "id": "295515e0-eb3b-4b50-b6b2-6b038083ed07",
   "metadata": {},
   "outputs": [],
   "source": [
    "from kfp import dsl\n",
    "from kfp.components import create_component_from_func\n",
    "\n",
    "def create_text_file():\n",
    "    with open(\"/mnt/data/hello.txt\", \"w\") as f:\n",
    "        f.write(\"Hola!\")\n",
    "\n",
    "create_text_component = create_component_from_func(\n",
    "    create_text_file,\n",
    "    output_component_file='create_text_component.yaml',  # This is optional. It saves the component spec for future use.\n",
    "    base_image='python:3.8'  # Specify the Docker image to use.\n",
    ")\n"
   ]
  },
  {
   "cell_type": "code",
   "execution_count": null,
   "id": "336d1278-6e63-4500-842a-cd4a4827a5b8",
   "metadata": {},
   "outputs": [],
   "source": [
    "@dsl.pipeline(\n",
    "    name='Hello World Pipeline',\n",
    "    description='A simple pipeline that writes Hello to a text file.'\n",
    ")\n",
    "def hello_world_pipeline():\n",
    "    create_text_op = create_text_component()\n"
   ]
  },
  {
   "cell_type": "code",
   "execution_count": null,
   "id": "ae68474c-c7a9-4dce-b53e-2223198c62c1",
   "metadata": {},
   "outputs": [],
   "source": [
    "import kfp\n",
    "\n",
    "# Compilar el pipeline\n",
    "kfp.compiler.Compiler().compile(hello_world_pipeline, 'hello_world_pipeline.yaml')\n",
    "\n",
    "# Conectar al servicio de Kubeflow Pipelines y ejecutar el pipeline\n",
    "client = kfp.Client(host='http://localhost:8080')\n",
    "client.create_run_from_pipeline_func(hello_world_pipeline, arguments={})\n"
   ]
  },
  {
   "cell_type": "code",
   "execution_count": null,
   "id": "806cb459-a164-4c18-a101-30db1847a443",
   "metadata": {},
   "outputs": [],
   "source": []
  },
  {
   "cell_type": "code",
   "execution_count": null,
   "id": "acbdee70-582f-46f8-aad1-f708260b32bd",
   "metadata": {},
   "outputs": [],
   "source": []
  }
 ],
 "metadata": {
  "kernelspec": {
   "display_name": "TFX3.10.12",
   "language": "python",
   "name": "tfx3.10.12"
  },
  "language_info": {
   "codemirror_mode": {
    "name": "ipython",
    "version": 3
   },
   "file_extension": ".py",
   "mimetype": "text/x-python",
   "name": "python",
   "nbconvert_exporter": "python",
   "pygments_lexer": "ipython3",
   "version": "3.9.2"
  }
 },
 "nbformat": 4,
 "nbformat_minor": 5
}
